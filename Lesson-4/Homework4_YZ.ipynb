{
 "cells": [
  {
   "cell_type": "code",
   "execution_count": 8,
   "id": "eab0c95d",
   "metadata": {},
   "outputs": [],
   "source": [
    "import json\n",
    "import requests\n",
    "from bs4 import BeautifulSoup as bs\n",
    "from pymongo import MongoClient"
   ]
  },
  {
   "cell_type": "code",
   "execution_count": 5,
   "id": "c7d62f23",
   "metadata": {},
   "outputs": [
    {
     "name": "stdout",
     "output_type": "stream",
     "text": [
      "Done\n"
     ]
    }
   ],
   "source": [
    "url = 'https://quotes.toscrape.com/'\n",
    "quotes_list = []\n",
    "with open('quotes_data_tmp.json', 'w') as jf:\n",
    "    while True:\n",
    "        #print(f'start scraping url {url}')\n",
    "        r = requests.get(url)\n",
    "        if r.status_code == 200:\n",
    "            html = bs(r.content, 'html.parser')\n",
    "            all_quotes = html.select('div[class=quote]')\n",
    "            for quote_number, quote in enumerate(all_quotes, 1):\n",
    "                content = quote.find('span', class_='text').text\n",
    "                author = quote.select_one('small[class=author]').text\n",
    "                tags = quote.select_one('meta[class=keywords]')['content'].replace(',',', ')\n",
    "\n",
    "                quote_dict = {\n",
    "                    'quote': content,\n",
    "                    'author': author,\n",
    "                    'tags': tags      \n",
    "                }\n",
    "                quotes_list.append(quote_dict)\n",
    "                \n",
    "                json.dump(quote_dict, jf)\n",
    "                #print(f'\\t\\tSaved quote #{quote_number} from {len(all_quotes)}')\n",
    "            try:\n",
    "                next_page = html.select_one('li[class=next] a')['href']\n",
    "                url = 'https://quotes.toscrape.com' + next_page\n",
    "                continue\n",
    "            except:\n",
    "                break\n",
    "        else:\n",
    "            print(f'Error: {req.status_code}')\n",
    "            \n",
    "with open('quotes_data.json', 'w') as jf:\n",
    "    json.dump(quotes_list, jf)\n",
    "    \n",
    "print('Done')"
   ]
  },
  {
   "cell_type": "code",
   "execution_count": 9,
   "id": "d7aa0bf4",
   "metadata": {},
   "outputs": [
    {
     "data": {
      "text/plain": [
       "100"
      ]
     },
     "execution_count": 9,
     "metadata": {},
     "output_type": "execute_result"
    }
   ],
   "source": [
    "len(quotes_list)"
   ]
  },
  {
   "cell_type": "markdown",
   "id": "a03629f8",
   "metadata": {},
   "source": [
    "1.\tСохранить данные из предыдущего домашнего задания в файл .json или .csv. \n",
    "2.\tСоздать MongoDB, записать данные туда (любое название базы, любое название коллекции). Выполнить команду для демонстрации содержимого коллекции. Прикрепить скриншот.\n",
    "3.\tСоздать базу данных sqlite, загрузить туда данные из парсера с предыдущего урока. Загрузить файл .db\n"
   ]
  },
  {
   "cell_type": "code",
   "execution_count": 10,
   "id": "f561b2ee",
   "metadata": {},
   "outputs": [],
   "source": [
    "client = MongoClient('mongodb://localhost:27017/')"
   ]
  },
  {
   "cell_type": "code",
   "execution_count": 11,
   "id": "5949f989",
   "metadata": {},
   "outputs": [
    {
     "name": "stdout",
     "output_type": "stream",
     "text": [
      "['admin', 'cars', 'config', 'local', 'quotes', 'test']\n"
     ]
    }
   ],
   "source": [
    "print(client.list_database_names())"
   ]
  },
  {
   "cell_type": "code",
   "execution_count": 13,
   "id": "fb3bb843",
   "metadata": {},
   "outputs": [],
   "source": [
    "db = client.quotes"
   ]
  },
  {
   "cell_type": "code",
   "execution_count": 14,
   "id": "8c87a07c",
   "metadata": {},
   "outputs": [
    {
     "name": "stdout",
     "output_type": "stream",
     "text": [
      "['users', 'all_quotes']\n"
     ]
    }
   ],
   "source": [
    "print(db.list_collection_names())"
   ]
  },
  {
   "cell_type": "code",
   "execution_count": 15,
   "id": "99a897dc",
   "metadata": {},
   "outputs": [],
   "source": [
    "db.users.drop()"
   ]
  },
  {
   "cell_type": "code",
   "execution_count": 16,
   "id": "6910a6e5",
   "metadata": {},
   "outputs": [],
   "source": [
    "db.all_quotes.drop()"
   ]
  },
  {
   "cell_type": "code",
   "execution_count": 19,
   "id": "dc47549b",
   "metadata": {},
   "outputs": [
    {
     "data": {
      "text/plain": [
       "<pymongo.results.InsertManyResult at 0x275db388e20>"
      ]
     },
     "execution_count": 19,
     "metadata": {},
     "output_type": "execute_result"
    }
   ],
   "source": [
    "db.all_quotes.insert_many(quotes_list)"
   ]
  },
  {
   "cell_type": "code",
   "execution_count": 20,
   "id": "b930decc",
   "metadata": {},
   "outputs": [
    {
     "name": "stdout",
     "output_type": "stream",
     "text": [
      "['all_quotes']\n"
     ]
    }
   ],
   "source": [
    "print(db.list_collection_names())"
   ]
  },
  {
   "cell_type": "code",
   "execution_count": 22,
   "id": "c36559bd",
   "metadata": {},
   "outputs": [
    {
     "name": "stdout",
     "output_type": "stream",
     "text": [
      "{'_id': ObjectId('627915bfcc5a80f4f2875472'), 'quote': '“The world as we have created it is a process of our thinking. It cannot be changed without changing our thinking.”', 'author': 'Albert Einstein', 'tags': 'change, deep-thoughts, thinking, world'}\n",
      "{'_id': ObjectId('627915bfcc5a80f4f2875473'), 'quote': '“It is our choices, Harry, that show what we truly are, far more than our abilities.”', 'author': 'J.K. Rowling', 'tags': 'abilities, choices'}\n",
      "{'_id': ObjectId('627915bfcc5a80f4f2875474'), 'quote': '“There are only two ways to live your life. One is as though nothing is a miracle. The other is as though everything is a miracle.”', 'author': 'Albert Einstein', 'tags': 'inspirational, life, live, miracle, miracles'}\n",
      "{'_id': ObjectId('627915bfcc5a80f4f2875475'), 'quote': '“The person, be it gentleman or lady, who has not pleasure in a good novel, must be intolerably stupid.”', 'author': 'Jane Austen', 'tags': 'aliteracy, books, classic, humor'}\n",
      "{'_id': ObjectId('627915bfcc5a80f4f2875476'), 'quote': \"“Imperfection is beauty, madness is genius and it's better to be absolutely ridiculous than absolutely boring.”\", 'author': 'Marilyn Monroe', 'tags': 'be-yourself, inspirational'}\n",
      "{'_id': ObjectId('627915bfcc5a80f4f2875477'), 'quote': '“Try not to become a man of success. Rather become a man of value.”', 'author': 'Albert Einstein', 'tags': 'adulthood, success, value'}\n",
      "{'_id': ObjectId('627915bfcc5a80f4f2875478'), 'quote': '“It is better to be hated for what you are than to be loved for what you are not.”', 'author': 'André Gide', 'tags': 'life, love'}\n",
      "{'_id': ObjectId('627915bfcc5a80f4f2875479'), 'quote': \"“I have not failed. I've just found 10,000 ways that won't work.”\", 'author': 'Thomas A. Edison', 'tags': 'edison, failure, inspirational, paraphrased'}\n",
      "{'_id': ObjectId('627915bfcc5a80f4f287547a'), 'quote': \"“A woman is like a tea bag; you never know how strong it is until it's in hot water.”\", 'author': 'Eleanor Roosevelt', 'tags': 'misattributed-eleanor-roosevelt'}\n",
      "{'_id': ObjectId('627915bfcc5a80f4f287547b'), 'quote': '“A day without sunshine is like, you know, night.”', 'author': 'Steve Martin', 'tags': 'humor, obvious, simile'}\n",
      "{'_id': ObjectId('627915bfcc5a80f4f287547c'), 'quote': \"“This life is what you make it. No matter what, you're going to mess up sometimes, it's a universal truth. But the good part is you get to decide how you're going to mess it up. Girls will be your friends - they'll act like it anyway. But just remember, some come, some go. The ones that stay with you through everything - they're your true best friends. Don't let go of them. Also remember, sisters make the best friends in the world. As for lovers, well, they'll come and go too. And baby, I hate to say it, most of them - actually pretty much all of them are going to break your heart, but you can't give up because if you give up, you'll never find your soulmate. You'll never find that half who makes you whole and that goes for everything. Just because you fail once, doesn't mean you're gonna fail at everything. Keep trying, hold on, and always, always, always believe in yourself, because if you don't, then who will, sweetie? So keep your head high, keep your chin up, and most importantly, keep smiling, because life's a beautiful thing and there's so much to smile about.”\", 'author': 'Marilyn Monroe', 'tags': 'friends, heartbreak, inspirational, life, love, sisters'}\n",
      "{'_id': ObjectId('627915bfcc5a80f4f287547d'), 'quote': '“It takes a great deal of bravery to stand up to our enemies, but just as much to stand up to our friends.”', 'author': 'J.K. Rowling', 'tags': 'courage, friends'}\n",
      "{'_id': ObjectId('627915bfcc5a80f4f287547e'), 'quote': \"“If you can't explain it to a six year old, you don't understand it yourself.”\", 'author': 'Albert Einstein', 'tags': 'simplicity, understand'}\n",
      "{'_id': ObjectId('627915bfcc5a80f4f287547f'), 'quote': \"“You may not be her first, her last, or her only. She loved before she may love again. But if she loves you now, what else matters? She's not perfect—you aren't either, and the two of you may never be perfect together but if she can make you laugh, cause you to think twice, and admit to being human and making mistakes, hold onto her and give her the most you can. She may not be thinking about you every second of the day, but she will give you a part of her that she knows you can break—her heart. So don't hurt her, don't change her, don't analyze and don't expect more than she can give. Smile when she makes you happy, let her know when she makes you mad, and miss her when she's not there.”\", 'author': 'Bob Marley', 'tags': 'love'}\n",
      "{'_id': ObjectId('627915bfcc5a80f4f2875480'), 'quote': '“I like nonsense, it wakes up the brain cells. Fantasy is a necessary ingredient in living.”', 'author': 'Dr. Seuss', 'tags': 'fantasy'}\n",
      "{'_id': ObjectId('627915bfcc5a80f4f2875481'), 'quote': '“I may not have gone where I intended to go, but I think I have ended up where I needed to be.”', 'author': 'Douglas Adams', 'tags': 'life, navigation'}\n",
      "{'_id': ObjectId('627915bfcc5a80f4f2875482'), 'quote': \"“The opposite of love is not hate, it's indifference. The opposite of art is not ugliness, it's indifference. The opposite of faith is not heresy, it's indifference. And the opposite of life is not death, it's indifference.”\", 'author': 'Elie Wiesel', 'tags': 'activism, apathy, hate, indifference, inspirational, love, opposite, philosophy'}\n",
      "{'_id': ObjectId('627915bfcc5a80f4f2875483'), 'quote': '“It is not a lack of love, but a lack of friendship that makes unhappy marriages.”', 'author': 'Friedrich Nietzsche', 'tags': 'friendship, lack-of-friendship, lack-of-love, love, marriage, unhappy-marriage'}\n",
      "{'_id': ObjectId('627915bfcc5a80f4f2875484'), 'quote': '“Good friends, good books, and a sleepy conscience: this is the ideal life.”', 'author': 'Mark Twain', 'tags': 'books, contentment, friends, friendship, life'}\n",
      "{'_id': ObjectId('627915bfcc5a80f4f2875485'), 'quote': '“Life is what happens to us while we are making other plans.”', 'author': 'Allen Saunders', 'tags': 'fate, life, misattributed-john-lennon, planning, plans'}\n",
      "{'_id': ObjectId('627915bfcc5a80f4f2875486'), 'quote': '“I love you without knowing how, or when, or from where. I love you simply, without problems or pride: I love you in this way because I do not know any other way of loving but this, in which there is no I or you, so intimate that your hand upon my chest is my hand, so intimate that when I fall asleep your eyes close.”', 'author': 'Pablo Neruda', 'tags': 'love, poetry'}\n",
      "{'_id': ObjectId('627915bfcc5a80f4f2875487'), 'quote': '“For every minute you are angry you lose sixty seconds of happiness.”', 'author': 'Ralph Waldo Emerson', 'tags': 'happiness'}\n",
      "{'_id': ObjectId('627915bfcc5a80f4f2875488'), 'quote': '“If you judge people, you have no time to love them.”', 'author': 'Mother Teresa', 'tags': 'attributed-no-source'}\n",
      "{'_id': ObjectId('627915bfcc5a80f4f2875489'), 'quote': '“Anyone who thinks sitting in church can make you a Christian must also think that sitting in a garage can make you a car.”', 'author': 'Garrison Keillor', 'tags': 'humor, religion'}\n",
      "{'_id': ObjectId('627915bfcc5a80f4f287548a'), 'quote': '“Beauty is in the eye of the beholder and it may be necessary from time to time to give a stupid or misinformed beholder a black eye.”', 'author': 'Jim Henson', 'tags': 'humor'}\n",
      "{'_id': ObjectId('627915bfcc5a80f4f287548b'), 'quote': '“Today you are You, that is truer than true. There is no one alive who is Youer than You.”', 'author': 'Dr. Seuss', 'tags': 'comedy, life, yourself'}\n",
      "{'_id': ObjectId('627915bfcc5a80f4f287548c'), 'quote': '“If you want your children to be intelligent, read them fairy tales. If you want them to be more intelligent, read them more fairy tales.”', 'author': 'Albert Einstein', 'tags': 'children, fairy-tales'}\n",
      "{'_id': ObjectId('627915bfcc5a80f4f287548d'), 'quote': '“It is impossible to live without failing at something, unless you live so cautiously that you might as well not have lived at all - in which case, you fail by default.”', 'author': 'J.K. Rowling', 'tags': ''}\n",
      "{'_id': ObjectId('627915bfcc5a80f4f287548e'), 'quote': '“Logic will get you from A to Z; imagination will get you everywhere.”', 'author': 'Albert Einstein', 'tags': 'imagination'}\n",
      "{'_id': ObjectId('627915bfcc5a80f4f287548f'), 'quote': '“One good thing about music, when it hits you, you feel no pain.”', 'author': 'Bob Marley', 'tags': 'music'}\n",
      "{'_id': ObjectId('627915bfcc5a80f4f2875490'), 'quote': \"“The more that you read, the more things you will know. The more that you learn, the more places you'll go.”\", 'author': 'Dr. Seuss', 'tags': 'learning, reading, seuss'}\n",
      "{'_id': ObjectId('627915bfcc5a80f4f2875491'), 'quote': '“Of course it is happening inside your head, Harry, but why on earth should that mean that it is not real?”', 'author': 'J.K. Rowling', 'tags': 'dumbledore'}\n",
      "{'_id': ObjectId('627915bfcc5a80f4f2875492'), 'quote': '“The truth is, everyone is going to hurt you. You just got to find the ones worth suffering for.”', 'author': 'Bob Marley', 'tags': 'friendship'}\n",
      "{'_id': ObjectId('627915bfcc5a80f4f2875493'), 'quote': '“Not all of us can do great things. But we can do small things with great love.”', 'author': 'Mother Teresa', 'tags': 'misattributed-to-mother-teresa, paraphrased'}\n",
      "{'_id': ObjectId('627915bfcc5a80f4f2875494'), 'quote': '“To the well-organized mind, death is but the next great adventure.”', 'author': 'J.K. Rowling', 'tags': 'death, inspirational'}\n",
      "{'_id': ObjectId('627915bfcc5a80f4f2875495'), 'quote': \"“All you need is love. But a little chocolate now and then doesn't hurt.”\", 'author': 'Charles M. Schulz', 'tags': 'chocolate, food, humor'}\n",
      "{'_id': ObjectId('627915bfcc5a80f4f2875496'), 'quote': \"“We read to know we're not alone.”\", 'author': 'William Nicholson', 'tags': 'misattributed-to-c-s-lewis, reading'}\n",
      "{'_id': ObjectId('627915bfcc5a80f4f2875497'), 'quote': '“Any fool can know. The point is to understand.”', 'author': 'Albert Einstein', 'tags': 'knowledge, learning, understanding, wisdom'}\n",
      "{'_id': ObjectId('627915bfcc5a80f4f2875498'), 'quote': '“I have always imagined that Paradise will be a kind of library.”', 'author': 'Jorge Luis Borges', 'tags': 'books, library'}\n",
      "{'_id': ObjectId('627915bfcc5a80f4f2875499'), 'quote': '“It is never too late to be what you might have been.”', 'author': 'George Eliot', 'tags': 'inspirational'}\n",
      "{'_id': ObjectId('627915bfcc5a80f4f287549a'), 'quote': '“A reader lives a thousand lives before he dies, said Jojen. The man who never reads lives only one.”', 'author': 'George R.R. Martin', 'tags': 'read, readers, reading, reading-books'}\n",
      "{'_id': ObjectId('627915bfcc5a80f4f287549b'), 'quote': '“You can never get a cup of tea large enough or a book long enough to suit me.”', 'author': 'C.S. Lewis', 'tags': 'books, inspirational, reading, tea'}\n",
      "{'_id': ObjectId('627915bfcc5a80f4f287549c'), 'quote': '“You believe lies so you eventually learn to trust no one but yourself.”', 'author': 'Marilyn Monroe', 'tags': ''}\n",
      "{'_id': ObjectId('627915bfcc5a80f4f287549d'), 'quote': '“If you can make a woman laugh, you can make her do anything.”', 'author': 'Marilyn Monroe', 'tags': 'girls, love'}\n",
      "{'_id': ObjectId('627915bfcc5a80f4f287549e'), 'quote': '“Life is like riding a bicycle. To keep your balance, you must keep moving.”', 'author': 'Albert Einstein', 'tags': 'life, simile'}\n",
      "{'_id': ObjectId('627915bfcc5a80f4f287549f'), 'quote': '“The real lover is the man who can thrill you by kissing your forehead or smiling into your eyes or just staring into space.”', 'author': 'Marilyn Monroe', 'tags': 'love'}\n",
      "{'_id': ObjectId('627915bfcc5a80f4f28754a0'), 'quote': \"“A wise girl kisses but doesn't love, listens but doesn't believe, and leaves before she is left.”\", 'author': 'Marilyn Monroe', 'tags': 'attributed-no-source'}\n",
      "{'_id': ObjectId('627915bfcc5a80f4f28754a1'), 'quote': '“Only in the darkness can you see the stars.”', 'author': 'Martin Luther King Jr.', 'tags': 'hope, inspirational'}\n",
      "{'_id': ObjectId('627915bfcc5a80f4f28754a2'), 'quote': '“It matters not what someone is born, but what they grow to be.”', 'author': 'J.K. Rowling', 'tags': 'dumbledore'}\n",
      "{'_id': ObjectId('627915bfcc5a80f4f28754a3'), 'quote': '“Love does not begin and end the way we seem to think it does. Love is a battle, love is a war; love is a growing up.”', 'author': 'James Baldwin', 'tags': 'love'}\n",
      "{'_id': ObjectId('627915bfcc5a80f4f28754a4'), 'quote': '“There is nothing I would not do for those who are really my friends. I have no notion of loving people by halves, it is not my nature.”', 'author': 'Jane Austen', 'tags': 'friendship, love'}\n",
      "{'_id': ObjectId('627915bfcc5a80f4f28754a5'), 'quote': '“Do one thing every day that scares you.”', 'author': 'Eleanor Roosevelt', 'tags': 'attributed, fear, inspiration'}\n",
      "{'_id': ObjectId('627915bfcc5a80f4f28754a6'), 'quote': '“I am good, but not an angel. I do sin, but I am not the devil. I am just a small girl in a big world trying to find someone to love.”', 'author': 'Marilyn Monroe', 'tags': 'attributed-no-source'}\n",
      "{'_id': ObjectId('627915bfcc5a80f4f28754a7'), 'quote': '“If I were not a physicist, I would probably be a musician. I often think in music. I live my daydreams in music. I see my life in terms of music.”', 'author': 'Albert Einstein', 'tags': 'music'}\n",
      "{'_id': ObjectId('627915bfcc5a80f4f28754a8'), 'quote': '“If you only read the books that everyone else is reading, you can only think what everyone else is thinking.”', 'author': 'Haruki Murakami', 'tags': 'books, thought'}\n",
      "{'_id': ObjectId('627915bfcc5a80f4f28754a9'), 'quote': '“The difference between genius and stupidity is: genius has its limits.”', 'author': 'Alexandre Dumas fils', 'tags': 'misattributed-to-einstein'}\n",
      "{'_id': ObjectId('627915bfcc5a80f4f28754aa'), 'quote': \"“He's like a drug for you, Bella.”\", 'author': 'Stephenie Meyer', 'tags': 'drug, romance, simile'}\n",
      "{'_id': ObjectId('627915bfcc5a80f4f28754ab'), 'quote': '“There is no friend as loyal as a book.”', 'author': 'Ernest Hemingway', 'tags': 'books, friends, novelist-quotes'}\n",
      "{'_id': ObjectId('627915bfcc5a80f4f28754ac'), 'quote': '“When one door of happiness closes, another opens; but often we look so long at the closed door that we do not see the one which has been opened for us.”', 'author': 'Helen Keller', 'tags': 'inspirational'}\n",
      "{'_id': ObjectId('627915bfcc5a80f4f28754ad'), 'quote': \"“Life isn't about finding yourself. Life is about creating yourself.”\", 'author': 'George Bernard Shaw', 'tags': 'inspirational, life, yourself'}\n",
      "{'_id': ObjectId('627915bfcc5a80f4f28754ae'), 'quote': \"“That's the problem with drinking, I thought, as I poured myself a drink. If something bad happens you drink in an attempt to forget; if something good happens you drink in order to celebrate; and if nothing happens you drink to make something happen.”\", 'author': 'Charles Bukowski', 'tags': 'alcohol'}\n",
      "{'_id': ObjectId('627915bfcc5a80f4f28754af'), 'quote': '“You don’t forget the face of the person who was your last hope.”', 'author': 'Suzanne Collins', 'tags': 'the-hunger-games'}\n",
      "{'_id': ObjectId('627915bfcc5a80f4f28754b0'), 'quote': \"“Remember, we're madly in love, so it's all right to kiss me anytime you feel like it.”\", 'author': 'Suzanne Collins', 'tags': 'humor'}\n",
      "{'_id': ObjectId('627915bfcc5a80f4f28754b1'), 'quote': '“To love at all is to be vulnerable. Love anything and your heart will be wrung and possibly broken. If you want to make sure of keeping it intact you must give it to no one, not even an animal. Wrap it carefully round with hobbies and little luxuries; avoid all entanglements. Lock it up safe in the casket or coffin of your selfishness. But in that casket, safe, dark, motionless, airless, it will change. It will not be broken; it will become unbreakable, impenetrable, irredeemable. To love is to be vulnerable.”', 'author': 'C.S. Lewis', 'tags': 'love'}\n",
      "{'_id': ObjectId('627915bfcc5a80f4f28754b2'), 'quote': '“Not all those who wander are lost.”', 'author': 'J.R.R. Tolkien', 'tags': 'bilbo, journey, lost, quest, travel, wander'}\n",
      "{'_id': ObjectId('627915bfcc5a80f4f28754b3'), 'quote': '“Do not pity the dead, Harry. Pity the living, and, above all those who live without love.”', 'author': 'J.K. Rowling', 'tags': 'live-death-love'}\n",
      "{'_id': ObjectId('627915bfcc5a80f4f28754b4'), 'quote': '“There is nothing to writing. All you do is sit down at a typewriter and bleed.”', 'author': 'Ernest Hemingway', 'tags': 'good, writing'}\n",
      "{'_id': ObjectId('627915bfcc5a80f4f28754b5'), 'quote': '“Finish each day and be done with it. You have done what you could. Some blunders and absurdities no doubt crept in; forget them as soon as you can. Tomorrow is a new day. You shall begin it serenely and with too high a spirit to be encumbered with your old nonsense.”', 'author': 'Ralph Waldo Emerson', 'tags': 'life, regrets'}\n",
      "{'_id': ObjectId('627915bfcc5a80f4f28754b6'), 'quote': '“I have never let my schooling interfere with my education.”', 'author': 'Mark Twain', 'tags': 'education'}\n",
      "{'_id': ObjectId('627915bfcc5a80f4f28754b7'), 'quote': \"“I have heard there are troubles of more than one kind. Some come from ahead and some come from behind. But I've bought a big bat. I'm all ready you see. Now my troubles are going to have troubles with me!”\", 'author': 'Dr. Seuss', 'tags': 'troubles'}\n",
      "{'_id': ObjectId('627915bfcc5a80f4f28754b8'), 'quote': '“If I had a flower for every time I thought of you...I could walk through my garden forever.”', 'author': 'Alfred Tennyson', 'tags': 'friendship, love'}\n",
      "{'_id': ObjectId('627915bfcc5a80f4f28754b9'), 'quote': '“Some people never go crazy. What truly horrible lives they must lead.”', 'author': 'Charles Bukowski', 'tags': 'humor'}\n",
      "{'_id': ObjectId('627915bfcc5a80f4f28754ba'), 'quote': '“The trouble with having an open mind, of course, is that people will insist on coming along and trying to put things in it.”', 'author': 'Terry Pratchett', 'tags': 'humor, open-mind, thinking'}\n",
      "{'_id': ObjectId('627915bfcc5a80f4f28754bb'), 'quote': '“Think left and think right and think low and think high. Oh, the thinks you can think up if only you try!”', 'author': 'Dr. Seuss', 'tags': 'humor, philosophy'}\n",
      "{'_id': ObjectId('627915bfcc5a80f4f28754bc'), 'quote': \"“What really knocks me out is a book that, when you're all done reading it, you wish the author that wrote it was a terrific friend of yours and you could call him up on the phone whenever you felt like it. That doesn't happen much, though.”\", 'author': 'J.D. Salinger', 'tags': 'authors, books, literature, reading, writing'}\n",
      "{'_id': ObjectId('627915bfcc5a80f4f28754bd'), 'quote': '“The reason I talk to myself is because I’m the only one whose answers I accept.”', 'author': 'George Carlin', 'tags': 'humor, insanity, lies, lying, self-indulgence, truth'}\n",
      "{'_id': ObjectId('627915bfcc5a80f4f28754be'), 'quote': \"“You may say I'm a dreamer, but I'm not the only one. I hope someday you'll join us. And the world will live as one.”\", 'author': 'John Lennon', 'tags': 'beatles, connection, dreamers, dreaming, dreams, hope, inspirational, peace'}\n",
      "{'_id': ObjectId('627915bfcc5a80f4f28754bf'), 'quote': '“I am free of all prejudice. I hate everyone equally. ”', 'author': 'W.C. Fields', 'tags': 'humor, sinister'}\n",
      "{'_id': ObjectId('627915bfcc5a80f4f28754c0'), 'quote': \"“The question isn't who is going to let me; it's who is going to stop me.”\", 'author': 'Ayn Rand', 'tags': ''}\n",
      "{'_id': ObjectId('627915bfcc5a80f4f28754c1'), 'quote': \"“′Classic′ - a book which people praise and don't read.”\", 'author': 'Mark Twain', 'tags': 'books, classic, reading'}\n",
      "{'_id': ObjectId('627915bfcc5a80f4f28754c2'), 'quote': '“Anyone who has never made a mistake has never tried anything new.”', 'author': 'Albert Einstein', 'tags': 'mistakes'}\n",
      "{'_id': ObjectId('627915bfcc5a80f4f28754c3'), 'quote': \"“A lady's imagination is very rapid; it jumps from admiration to love, from love to matrimony in a moment.”\", 'author': 'Jane Austen', 'tags': 'humor, love, romantic, women'}\n",
      "{'_id': ObjectId('627915bfcc5a80f4f28754c4'), 'quote': '“Remember, if the time should come when you have to make a choice between what is right and what is easy, remember what happened to a boy who was good, and kind, and brave, because he strayed across the path of Lord Voldemort. Remember Cedric Diggory.”', 'author': 'J.K. Rowling', 'tags': 'integrity'}\n",
      "{'_id': ObjectId('627915bfcc5a80f4f28754c5'), 'quote': '“I declare after all there is no enjoyment like reading! How much sooner one tires of any thing than of a book! -- When I have a house of my own, I shall be miserable if I have not an excellent library.”', 'author': 'Jane Austen', 'tags': 'books, library, reading'}\n",
      "{'_id': ObjectId('627915bfcc5a80f4f28754c6'), 'quote': '“There are few people whom I really love, and still fewer of whom I think well. The more I see of the world, the more am I dissatisfied with it; and every day confirms my belief of the inconsistency of all human characters, and of the little dependence that can be placed on the appearance of merit or sense.”', 'author': 'Jane Austen', 'tags': 'elizabeth-bennet, jane-austen'}\n",
      "{'_id': ObjectId('627915bfcc5a80f4f28754c7'), 'quote': '“Some day you will be old enough to start reading fairy tales again.”', 'author': 'C.S. Lewis', 'tags': 'age, fairytales, growing-up'}\n",
      "{'_id': ObjectId('627915bfcc5a80f4f28754c8'), 'quote': '“We are not necessarily doubting that God will do the best for us; we are wondering how painful the best will turn out to be.”', 'author': 'C.S. Lewis', 'tags': 'god'}\n",
      "{'_id': ObjectId('627915bfcc5a80f4f28754c9'), 'quote': '“The fear of death follows from the fear of life. A man who lives fully is prepared to die at any time.”', 'author': 'Mark Twain', 'tags': 'death, life'}\n",
      "{'_id': ObjectId('627915bfcc5a80f4f28754ca'), 'quote': '“A lie can travel half way around the world while the truth is putting on its shoes.”', 'author': 'Mark Twain', 'tags': 'misattributed-mark-twain, truth'}\n",
      "{'_id': ObjectId('627915bfcc5a80f4f28754cb'), 'quote': '“I believe in Christianity as I believe that the sun has risen: not only because I see it, but because by it I see everything else.”', 'author': 'C.S. Lewis', 'tags': 'christianity, faith, religion, sun'}\n",
      "{'_id': ObjectId('627915bfcc5a80f4f28754cc'), 'quote': '“The truth.\" Dumbledore sighed. \"It is a beautiful and terrible thing, and should therefore be treated with great caution.”', 'author': 'J.K. Rowling', 'tags': 'truth'}\n",
      "{'_id': ObjectId('627915bfcc5a80f4f28754cd'), 'quote': \"“I'm the one that's got to die when it's time for me to die, so let me live my life the way I want to.”\", 'author': 'Jimi Hendrix', 'tags': 'death, life'}\n",
      "{'_id': ObjectId('627915bfcc5a80f4f28754ce'), 'quote': '“To die will be an awfully big adventure.”', 'author': 'J.M. Barrie', 'tags': 'adventure, love'}\n",
      "{'_id': ObjectId('627915bfcc5a80f4f28754cf'), 'quote': '“It takes courage to grow up and become who you really are.”', 'author': 'E.E. Cummings', 'tags': 'courage'}\n",
      "{'_id': ObjectId('627915bfcc5a80f4f28754d0'), 'quote': '“But better to get hurt by the truth than comforted with a lie.”', 'author': 'Khaled Hosseini', 'tags': 'life'}\n",
      "{'_id': ObjectId('627915bfcc5a80f4f28754d1'), 'quote': '“You never really understand a person until you consider things from his point of view... Until you climb inside of his skin and walk around in it.”', 'author': 'Harper Lee', 'tags': 'better-life-empathy'}\n",
      "{'_id': ObjectId('627915bfcc5a80f4f28754d2'), 'quote': '“You have to write the book that wants to be written. And if the book will be too difficult for grown-ups, then you write it for children.”', 'author': \"Madeleine L'Engle\", 'tags': 'books, children, difficult, grown-ups, write, writers, writing'}\n",
      "{'_id': ObjectId('627915bfcc5a80f4f28754d3'), 'quote': '“Never tell the truth to people who are not worthy of it.”', 'author': 'Mark Twain', 'tags': 'truth'}\n",
      "{'_id': ObjectId('627915bfcc5a80f4f28754d4'), 'quote': \"“A person's a person, no matter how small.”\", 'author': 'Dr. Seuss', 'tags': 'inspirational'}\n",
      "{'_id': ObjectId('627915bfcc5a80f4f28754d5'), 'quote': '“... a mind needs books as a sword needs a whetstone, if it is to keep its edge.”', 'author': 'George R.R. Martin', 'tags': 'books, mind'}\n"
     ]
    }
   ],
   "source": [
    "db_quotes = db.all_quotes.find()\n",
    "for quote in db_quotes:\n",
    "    print(quote)"
   ]
  },
  {
   "cell_type": "code",
   "execution_count": 26,
   "id": "0469080b",
   "metadata": {},
   "outputs": [
    {
     "name": "stdout",
     "output_type": "stream",
     "text": [
      "There are 100 quotes.\n"
     ]
    }
   ],
   "source": [
    "n_quotes = len(list(db.all_quotes.find()))\n",
    "print(\"There are {} quotes.\".format(n_quotes))"
   ]
  },
  {
   "cell_type": "code",
   "execution_count": 35,
   "id": "d78c6ac2",
   "metadata": {},
   "outputs": [],
   "source": [
    "import sqlite3"
   ]
  },
  {
   "cell_type": "code",
   "execution_count": 36,
   "id": "9aada1d6",
   "metadata": {},
   "outputs": [],
   "source": [
    "connection = sqlite3.connect('sqlite.db')"
   ]
  },
  {
   "cell_type": "code",
   "execution_count": 50,
   "id": "6caaa14b",
   "metadata": {},
   "outputs": [],
   "source": [
    "cursor = connection.cursor()"
   ]
  },
  {
   "cell_type": "code",
   "execution_count": 51,
   "id": "4f896a5b",
   "metadata": {},
   "outputs": [],
   "source": [
    "#method 1"
   ]
  },
  {
   "cell_type": "code",
   "execution_count": 44,
   "id": "4862a0d9",
   "metadata": {},
   "outputs": [
    {
     "ename": "OperationalError",
     "evalue": "table all_quotes already exists",
     "output_type": "error",
     "traceback": [
      "\u001b[1;31m---------------------------------------------------------------------------\u001b[0m",
      "\u001b[1;31mOperationalError\u001b[0m                          Traceback (most recent call last)",
      "\u001b[1;32m<ipython-input-44-ca0bceb15eec>\u001b[0m in \u001b[0;36m<module>\u001b[1;34m\u001b[0m\n\u001b[1;32m----> 1\u001b[1;33m \u001b[0mcursor\u001b[0m\u001b[1;33m.\u001b[0m\u001b[0mexecute\u001b[0m\u001b[1;33m(\u001b[0m\u001b[1;34m\"CREATE TABLE all_quotes (quotes_list json)\"\u001b[0m\u001b[1;33m)\u001b[0m\u001b[1;33m\u001b[0m\u001b[1;33m\u001b[0m\u001b[0m\n\u001b[0m",
      "\u001b[1;31mOperationalError\u001b[0m: table all_quotes already exists"
     ]
    }
   ],
   "source": [
    "cursor.execute(\"CREATE TABLE quotes (quotes_list json)\")"
   ]
  },
  {
   "cell_type": "code",
   "execution_count": 45,
   "id": "1aa9ca51",
   "metadata": {},
   "outputs": [
    {
     "name": "stdout",
     "output_type": "stream",
     "text": [
      "0\n"
     ]
    }
   ],
   "source": [
    "cursor.execute('SELECT * FROM all_quotes ')\n",
    "rows = cursor.fetchall()\n",
    "print(len(rows))"
   ]
  },
  {
   "cell_type": "code",
   "execution_count": null,
   "id": "99469e33",
   "metadata": {},
   "outputs": [],
   "source": [
    "#method 2"
   ]
  },
  {
   "cell_type": "code",
   "execution_count": 46,
   "id": "11f3c0fe",
   "metadata": {},
   "outputs": [],
   "source": [
    "query = '''\n",
    "    CREATE TABLE quotes(\n",
    "        \"quote\" TEXT,\n",
    "        \"author\" TEXT,\n",
    "        \"tags\" TEXT,\n",
    "        \"_id\" TEXT\n",
    "    )\n",
    "\n",
    "'''\n",
    "\n",
    "cursor.execute(query)\n",
    "connection.commit()"
   ]
  },
  {
   "cell_type": "code",
   "execution_count": 49,
   "id": "aa60b096",
   "metadata": {},
   "outputs": [
    {
     "ename": "ProgrammingError",
     "evalue": "Binding 1 has no name, but you supplied a dictionary (which has only names).",
     "output_type": "error",
     "traceback": [
      "\u001b[1;31m---------------------------------------------------------------------------\u001b[0m",
      "\u001b[1;31mProgrammingError\u001b[0m                          Traceback (most recent call last)",
      "\u001b[1;32m<ipython-input-49-18f57b228d9c>\u001b[0m in \u001b[0;36m<module>\u001b[1;34m\u001b[0m\n\u001b[0;32m     13\u001b[0m     )\n\u001b[0;32m     14\u001b[0m '''\n\u001b[1;32m---> 15\u001b[1;33m \u001b[0mcursor\u001b[0m\u001b[1;33m.\u001b[0m\u001b[0mexecutemany\u001b[0m\u001b[1;33m(\u001b[0m\u001b[0minsert_query\u001b[0m\u001b[1;33m,\u001b[0m \u001b[0mquotes_list\u001b[0m\u001b[1;33m)\u001b[0m\u001b[1;33m\u001b[0m\u001b[1;33m\u001b[0m\u001b[0m\n\u001b[0m\u001b[0;32m     16\u001b[0m \u001b[0mconnection\u001b[0m\u001b[1;33m.\u001b[0m\u001b[0mcommit\u001b[0m\u001b[1;33m(\u001b[0m\u001b[1;33m)\u001b[0m\u001b[1;33m\u001b[0m\u001b[1;33m\u001b[0m\u001b[0m\n",
      "\u001b[1;31mProgrammingError\u001b[0m: Binding 1 has no name, but you supplied a dictionary (which has only names)."
     ]
    }
   ],
   "source": [
    "insert_query = '''\n",
    "    INSERT INTO quotes(\n",
    "        \"quote\",\n",
    "        \"author\",\n",
    "        \"tags\",\n",
    "        \"_id\"\n",
    "    )\n",
    "    VALUES(\n",
    "        ?,\n",
    "        ?,\n",
    "        ?,\n",
    "        ?\n",
    "    )\n",
    "'''\n",
    "cursor.executemany(insert_query, quotes_list)\n",
    "connection.commit()"
   ]
  }
 ],
 "metadata": {
  "kernelspec": {
   "display_name": "Python 3",
   "language": "python",
   "name": "python3"
  },
  "language_info": {
   "codemirror_mode": {
    "name": "ipython",
    "version": 3
   },
   "file_extension": ".py",
   "mimetype": "text/x-python",
   "name": "python",
   "nbconvert_exporter": "python",
   "pygments_lexer": "ipython3",
   "version": "3.8.8"
  }
 },
 "nbformat": 4,
 "nbformat_minor": 5
}
