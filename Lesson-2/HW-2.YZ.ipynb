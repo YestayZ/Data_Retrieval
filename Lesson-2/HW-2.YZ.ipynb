{
 "cells": [
  {
   "cell_type": "code",
   "execution_count": 4,
   "metadata": {},
   "outputs": [],
   "source": [
    "import requests\n",
    "from bs4 import BeautifulSoup as bs \n",
    "import re\n",
    "import json"
   ]
  },
  {
   "cell_type": "code",
   "execution_count": 5,
   "metadata": {},
   "outputs": [
    {
     "name": "stdout",
     "output_type": "stream",
     "text": [
      "Please enter vacancy that you are looking for: Java\n",
      "\n",
      "77 vacancies were found\n"
     ]
    }
   ],
   "source": [
    "search_vacancy = input(f'Please enter vacancy that you are looking for: ')\n",
    "url = 'https://russia.superjob.ru/vacancy/search/?keywords=' + search_vacancy\n",
    "vacancy_list = []\n",
    "\n",
    "with open('vacancies_data_tmp.json', 'w') as jf:\n",
    "    while True:\n",
    "        req = requests.get(url)\n",
    "        if req.status_code == 200:\n",
    "            soup = bs(req.content, 'html.parser')\n",
    "            all_vacancies = soup.find_all('div', {'class': '_1M4pN _1O2dw _6kSO2 fmJDo'})\n",
    "            for vacancy in all_vacancies:\n",
    "                title = vacancy.find('span').find('a').text\n",
    "                link = 'https://www.superjob.ru/' + vacancy.find('span').find('a')['href']\n",
    "                salary = vacancy.find('span', {'class': '_4Gt5t _2jvwc f-test-text-company-item-salary'}).text\n",
    "                if '—' in salary:\n",
    "                    salary_min = salary.split('—')[0]\n",
    "                    salary_min = re.sub(r'[^0-9]', '', salary_min)\n",
    "                    salary_max = salary.split('—')[1]\n",
    "                    salary_max = re.sub(r'[^0-9]', '', salary_max)\n",
    "                    salary_min = int(salary_min)\n",
    "                    salary_max = int(salary_max)\n",
    "                elif 'от' in salary:\n",
    "                    salary_min = salary[2:]\n",
    "                    salary_min = re.sub(r'[^0-9]', '', salary_min)\n",
    "                    salary_min = int(salary_min)\n",
    "                    salary_max = None\n",
    "                elif 'договорённости' in salary:\n",
    "                    salary_min = None\n",
    "                    salary_max = None\n",
    "                elif 'до' in salary:\n",
    "                    salary_min = None\n",
    "                    salary_max = salary[2:]\n",
    "                    salary_max = re.sub(r'[^0-9]', '', salary_max)\n",
    "                    salary_max = int(salary_max)\n",
    "                else:\n",
    "                    salary_min = int(re.sub(r'[^0-9]', '', salary))\n",
    "                    salary_max = int(re.sub(r'[^0-9]', '', salary))\n",
    "\n",
    "                vacancy_dict = {\n",
    "                    'title': title,\n",
    "                    'salary_min': salary_min,\n",
    "                    'salary_max': salary_max,\n",
    "                    'link': link,\n",
    "                    'website': 'https://www.superjob.ru/'\n",
    "\n",
    "                }\n",
    "                vacancy_list.append(vacancy_dict)\n",
    "                json.dump(vacancy_dict, jf)\n",
    "            try:\n",
    "                next_page = soup.find('a', {'class': '_1IHWd _6Nb0L _37aW8 ljjt- f-test-button-dalshe f-test-link-Dalshe'})['href']\n",
    "                url = 'https://russia.superjob.ru'+ next_page\n",
    "                continue\n",
    "            except:\n",
    "                break\n",
    "        else:\n",
    "            print(f'Ошибка: {req.status_code}')\n",
    "    print(f'\\n{len(vacancy_list)} vacancies were found')\n",
    "with open('vacancies_data.json', 'w') as jf:\n",
    "    json.dump(vacancy_list, jf)"
   ]
  }
 ],
 "metadata": {
  "kernelspec": {
   "display_name": "Python 3",
   "language": "python",
   "name": "python3"
  },
  "language_info": {
   "codemirror_mode": {
    "name": "ipython",
    "version": 3
   },
   "file_extension": ".py",
   "mimetype": "text/x-python",
   "name": "python",
   "nbconvert_exporter": "python",
   "pygments_lexer": "ipython3",
   "version": "3.7.4"
  }
 },
 "nbformat": 4,
 "nbformat_minor": 2
}
